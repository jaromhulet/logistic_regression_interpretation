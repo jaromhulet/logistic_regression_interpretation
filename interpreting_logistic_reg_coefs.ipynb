{
 "cells": [
  {
   "cell_type": "markdown",
   "id": "7d843449-4821-4490-8825-06706c966642",
   "metadata": {},
   "source": [
    "## Simulate linear regression data and run linear regression on data"
   ]
  },
  {
   "cell_type": "code",
   "execution_count": 26,
   "id": "afd03cd3-9c9c-481c-b706-4ee28f85113f",
   "metadata": {},
   "outputs": [],
   "source": [
    "from sklearn.linear_model import LinearRegression\n",
    "import pandas as pd\n",
    "import numpy as np\n",
    "\n",
    "# simulate linear regression data\n",
    "def regression_simulation(sim_var, sim_error, sim_coef, size):\n",
    "    \n",
    "    '''\n",
    "        Simulates data for simple linear regression.\n",
    "        \n",
    "        inputs:\n",
    "            sim_var (list)    : 2-element list, first element is the mean of a random variable\n",
    "                                that is being used to simulate a feature in the linear regression, \n",
    "                                second is the standard deviation\n",
    "            sim_error (list)   : 2-element list, first element is the mean of random error being added,\n",
    "                                 second is the standard deviation\n",
    "            sim_coef (float)   : impact of the random variable established by sim_var on the target \n",
    "                                 variable\n",
    "            size (int)         : number of units to simulate\n",
    "            \n",
    "        output:\n",
    "            sim_df (DataFrame) : dataframe with simulated data\n",
    "        \n",
    "    '''\n",
    "    \n",
    "    # create an empty dataframe to populate\n",
    "    sim_df = pd.DataFrame()\n",
    "\n",
    "    # create the feature for the linear regression\n",
    "    sim_df['var'] = np.random.normal(sim_var[0], sim_var[1], size = size)\n",
    "    \n",
    "    # multiply feature by the coef to get a simulated impact\n",
    "    sim_df['var_impact'] = sim_df['var']*sim_coef\n",
    "    \n",
    "    # create error for the linear regression\n",
    "    sim_error = np.random.normal(sim_error[0], sim_error[1], size = size)\n",
    "    \n",
    "    # create the target variable\n",
    "    sim_df['target'] = sim_df['var_impact'] + sim_error\n",
    "    \n",
    "    return sim_df\n"
   ]
  },
  {
   "cell_type": "code",
   "execution_count": 31,
   "id": "19e7cd33-e8a1-4085-b81d-b2095ca297d8",
   "metadata": {},
   "outputs": [
    {
     "data": {
      "text/plain": [
       "LinearRegression()"
      ]
     },
     "execution_count": 31,
     "metadata": {},
     "output_type": "execute_result"
    }
   ],
   "source": [
    "linear_regression_sim_df = regression_simulation(sim_var = [2, 0.2], \n",
    "                                                 sim_error = [0, 2],\n",
    "                                                 sim_coef = 0.16,\n",
    "                                                 size = 30000)\n",
    "    \n",
    "lin_reg = LinearRegression()\n",
    "X = np.array(linear_regression_sim_df['var']).reshape(-1, 1)\n",
    "y = linear_regression_sim_df['target']\n",
    "lin_reg.fit(X, y)"
   ]
  },
  {
   "cell_type": "code",
   "execution_count": 34,
   "id": "311c57ab-b54a-4c48-b005-704a24ba8e42",
   "metadata": {},
   "outputs": [
    {
     "data": {
      "text/plain": [
       "array([0.17080146])"
      ]
     },
     "execution_count": 34,
     "metadata": {},
     "output_type": "execute_result"
    }
   ],
   "source": [
    "lin_reg.coef_"
   ]
  },
  {
   "cell_type": "code",
   "execution_count": 33,
   "id": "526901e8-8272-4af9-91d5-5e3194ba9e31",
   "metadata": {},
   "outputs": [
    {
     "data": {
      "text/plain": [
       "(array([  4.,   2.,  11.,   8.,  22.,  45.,  52.,  85., 109., 129., 100.,\n",
       "        104., 104.,  89.,  55.,  42.,  17.,  14.,   4.,   4.]),\n",
       " array([0.13786543, 0.14001128, 0.14215712, 0.14430297, 0.14644881,\n",
       "        0.14859466, 0.1507405 , 0.15288635, 0.15503219, 0.15717804,\n",
       "        0.15932388, 0.16146973, 0.16361557, 0.16576142, 0.16790727,\n",
       "        0.17005311, 0.17219896, 0.1743448 , 0.17649065, 0.17863649,\n",
       "        0.18078234]),\n",
       " <BarContainer object of 20 artists>)"
      ]
     },
     "execution_count": 33,
     "metadata": {},
     "output_type": "execute_result"
    },
    {
     "data": {
      "image/png": "[encoded data removed]",
      "text/plain": [
       "<Figure size 432x288 with 1 Axes>"
      ]
     },
     "metadata": {
      "needs_background": "light"
     },
     "output_type": "display_data"
    }
   ],
   "source": [
    "# run multiple simulations\n",
    "iters = 1000\n",
    "coef_list = []\n",
    "\n",
    "for i in range(iters):\n",
    "    \n",
    "    reg_sim_df = regression_simulation([2, 0.2], [0, 0.1], 0.16, 5000)\n",
    "    \n",
    "    lin_reg = LinearRegression()\n",
    "    X = np.array(reg_sim_df['var']).reshape(-1, 1)\n",
    "    y = reg_sim_df['target']\n",
    "    lin_reg.fit(X, y)\n",
    "    \n",
    "    coef = lin_reg.coef_[0]\n",
    "    \n",
    "    coef_list.append(coef)\n",
    "    \n",
    "\n",
    "plt.hist(coef_list, bins = 20)"
   ]
  },
  {
   "cell_type": "markdown",
   "id": "e757e388-106a-4de7-8ba7-b43f631ce4a8",
   "metadata": {},
   "source": [
    "## Simulate binary data and run logistic regression"
   ]
  },
  {
   "cell_type": "code",
   "execution_count": 35,
   "id": "9ccb3f4e-721d-401a-9952-919a6fa06dee",
   "metadata": {},
   "outputs": [],
   "source": [
    "from sklearn.linear_model import LogisticRegression\n",
    "import pandas as pd\n",
    "import numpy as np\n",
    "\n",
    "# simulate binary data\n",
    "def logistic_regression_simulation(sim_var, sim_error, sim_coef, size):\n",
    "    \n",
    "    '''\n",
    "        Simulates data for simple logistic regression.\n",
    "        \n",
    "        inputs:\n",
    "            sim_var (list)    : 2-element list, first element is the mean of a random variable\n",
    "                                that is being used to simulate a feature in the logistic regression, \n",
    "                                second is the standard deviation\n",
    "            sim_error (list)   : 2-element list, first element is the mean of random error being added,\n",
    "                                 second is the standard deviation\n",
    "            sim_coef (float)   : impact of the random variable established by sim_var on the target \n",
    "                                 variable\n",
    "            size (int)         : number of units to simulate\n",
    "            \n",
    "        output:\n",
    "            sim_df (DataFrame) : dataframe with simulated data\n",
    "        \n",
    "    '''\n",
    "    \n",
    "    # create an empty dataframe to populate\n",
    "    sim_df = pd.DataFrame()\n",
    "    \n",
    "    # create the feature for the linear regression\n",
    "    sim_df['var'] = np.random.normal(sim_var[0], sim_var[1], size = size)\n",
    "    \n",
    "    # multiply feature by the coef to get a simulated impact\n",
    "    sim_df['var_impact'] = sim_df['var']*sim_coef\n",
    "    \n",
    "    # create error term\n",
    "    sim_df['sim_error'] = np.random.normal(sim_error[0], sim_error[1], size = size)\n",
    "    \n",
    "    # add error and impact together\n",
    "    sim_df['sum_vars_error'] = sim_df['var_impact'] + sim_df['sim_error']\n",
    "    \n",
    "    # create a uniform random variable used to convert sum_vars_error from continuous to binary\n",
    "    sim_df['uniform_rv'] = np.random.uniform(size = len(sim_df))\n",
    "    \n",
    "    # create the binary target variable using the uniform random variable\n",
    "    sim_df['binary_target'] = sim_df.apply(lambda x : 1 if x.uniform_rv < x.sum_vars_error else 0, axis = 1)\n",
    "    \n",
    "    return sim_df\n",
    "    "
   ]
  },
  {
   "cell_type": "code",
   "execution_count": 36,
   "id": "53b668ab-d736-4c3f-b545-0d7c0e15ca5b",
   "metadata": {},
   "outputs": [
    {
     "data": {
      "text/plain": [
       "LogisticRegression()"
      ]
     },
     "execution_count": 36,
     "metadata": {},
     "output_type": "execute_result"
    }
   ],
   "source": [
    "log_reg_sim_df = logistic_regression_simulation([2, 0.2], [0, 0.1], 0.16, 30000)\n",
    "\n",
    "log_reg = LogisticRegression()\n",
    "X = np.array(log_reg_sim_df['var']).reshape(-1, 1)\n",
    "y = log_reg_sim_df['binary_target']\n",
    "log_reg.fit(X, y)"
   ]
  },
  {
   "cell_type": "code",
   "execution_count": 37,
   "id": "a9f5711c-7d8e-4ed7-9292-b36a175d705f",
   "metadata": {},
   "outputs": [
    {
     "data": {
      "text/plain": [
       "array([0.7274772])"
      ]
     },
     "execution_count": 37,
     "metadata": {},
     "output_type": "execute_result"
    }
   ],
   "source": [
    "log_reg.coef_[0]"
   ]
  },
  {
   "cell_type": "code",
   "execution_count": 38,
   "id": "45e23455-86bf-4e21-8ba1-b5841a10dc92",
   "metadata": {},
   "outputs": [],
   "source": [
    "coef = log_reg.coef_[0][0]\n",
    "intercept = log_reg.intercept_[0]\n",
    "log_reg_sim_df['contribution'] = log_reg_sim_df['var'].apply(lambda x : coef*exp(intercept + (x*coef))/(((exp(intercept + (x*coef)) + 1))**2))"
   ]
  },
  {
   "cell_type": "code",
   "execution_count": 39,
   "id": "6c6a18e6-6b85-49a4-b81a-5c993d6639a1",
   "metadata": {},
   "outputs": [
    {
     "data": {
      "text/plain": [
       "0.1579768145336383"
      ]
     },
     "execution_count": 39,
     "metadata": {},
     "output_type": "execute_result"
    }
   ],
   "source": [
    "log_reg_sim_df['contribution'].mean()"
   ]
  },
  {
   "cell_type": "code",
   "execution_count": 40,
   "id": "7e4f8c28-ba09-4af7-b067-90d0fd5564fd",
   "metadata": {},
   "outputs": [
    {
     "data": {
      "text/plain": [
       "(array([  3.,   6.,  10.,  24.,  48.,  83.,  98., 125., 136., 147.,  97.,\n",
       "        100.,  61.,  26.,  13.,  17.,   2.,   2.,   1.,   1.]),\n",
       " array([0.11115655, 0.11677681, 0.12239707, 0.12801733, 0.13363759,\n",
       "        0.13925785, 0.14487811, 0.15049837, 0.15611863, 0.16173889,\n",
       "        0.16735915, 0.17297941, 0.17859967, 0.18421993, 0.18984019,\n",
       "        0.19546045, 0.20108071, 0.20670097, 0.21232123, 0.21794149,\n",
       "        0.22356174]),\n",
       " <BarContainer object of 20 artists>)"
      ]
     },
     "execution_count": 40,
     "metadata": {},
     "output_type": "execute_result"
    },
    {
     "data": {
      "image/png": "[encoded data removed]",
      "text/plain": [
       "<Figure size 432x288 with 1 Axes>"
      ]
     },
     "metadata": {
      "needs_background": "light"
     },
     "output_type": "display_data"
    }
   ],
   "source": [
    "from math import exp\n",
    "import numpy as np\n",
    "import pandas as pd\n",
    "from matplotlib import pyplot as plt\n",
    "\n",
    "iters = 1000\n",
    "mean_marginal_impacts = []\n",
    "coef_list = []\n",
    "\n",
    "for i in range(iters):\n",
    "    \n",
    "    log_reg_sim_df = logistic_regression_simulation([2, 0.2], [0, 0.1], 0.16, 20000)\n",
    "    \n",
    "    log_reg = LogisticRegression()\n",
    "    X = np.array(log_reg_sim_df['var']).reshape(-1, 1)\n",
    "    y = log_reg_sim_df['binary_target']\n",
    "    log_reg.fit(X, y)\n",
    "    \n",
    "    coef = log_reg.coef_[0][0]\n",
    "    intercept = log_reg.intercept_[0]\n",
    "    \n",
    "    # run the model outputs through the partial derivatives for each simulated observation\n",
    "    log_reg_sim_df['contribution'] = log_reg_sim_df['var'].apply(lambda x : coef*exp(intercept + (x*coef))/\n",
    "                                                                         (((exp(intercept + (x*coef)) + 1))**2))\n",
    "    \n",
    "    temp_mean_marginal_impact = log_reg_sim_df['contribution'].mean()\n",
    "    \n",
    "    mean_marginal_impacts.append(temp_mean_marginal_impact)\n",
    "    coef_list.append(coef)\n",
    "\n",
    "plt.hist(mean_marginal_impacts, bins = 20)"
   ]
  },
  {
   "cell_type": "code",
   "execution_count": 41,
   "id": "191e4cf5-13b3-4c4b-b972-9c194496f1da",
   "metadata": {},
   "outputs": [
    {
     "data": {
      "text/plain": [
       "0.16038391795891555"
      ]
     },
     "execution_count": 41,
     "metadata": {},
     "output_type": "execute_result"
    }
   ],
   "source": [
    "np.mean(mean_marginal_impacts)"
   ]
  },
  {
   "cell_type": "code",
   "execution_count": 42,
   "id": "b570f7ef-ac53-4ecb-a7ef-5be2cff14554",
   "metadata": {},
   "outputs": [
    {
     "data": {
      "text/plain": [
       "(array([  2.,   6.,  10.,  21.,  44.,  87.,  91., 123., 133., 139., 115.,\n",
       "         99.,  63.,  28.,  15.,  17.,   2.,   2.,   2.,   1.]),\n",
       " array([0.50903276, 0.5351542 , 0.56127564, 0.58739708, 0.61351852,\n",
       "        0.63963996, 0.6657614 , 0.69188284, 0.71800428, 0.74412572,\n",
       "        0.77024716, 0.7963686 , 0.82249004, 0.84861148, 0.87473292,\n",
       "        0.90085436, 0.9269758 , 0.95309725, 0.97921869, 1.00534013,\n",
       "        1.03146157]),\n",
       " <BarContainer object of 20 artists>)"
      ]
     },
     "execution_count": 42,
     "metadata": {},
     "output_type": "execute_result"
    },
    {
     "data": {
      "image/png": "[encoded data removed]",
      "text/plain": [
       "<Figure size 432x288 with 1 Axes>"
      ]
     },
     "metadata": {
      "needs_background": "light"
     },
     "output_type": "display_data"
    }
   ],
   "source": [
    "plt.hist(coef_list, bins = 20)"
   ]
  },
  {
   "cell_type": "markdown",
   "id": "ec25c695-097e-4848-b6db-6bcda78287c6",
   "metadata": {},
   "source": [
    "## Run logistic regression with statsmodels.Logit, calculate mean marginal effect with built-in method"
   ]
  },
  {
   "cell_type": "code",
   "execution_count": 43,
   "id": "55a4c0ee-2d1b-4f7f-ad6c-45ed589530ea",
   "metadata": {},
   "outputs": [],
   "source": [
    "import numpy as np\n",
    "import pandas as pd\n",
    "from matplotlib import pyplot as plt\n",
    "import statsmodels.api as sm\n",
    "\n",
    "iters = 1000\n",
    "sm_marginal_effects = []\n",
    "\n",
    "for i in range(iters):\n",
    "    \n",
    "    # simulate data\n",
    "    log_reg_sim_df = logistic_regression_simulation([2, 0.2], [0, 0.1], 0.16, 20000)\n",
    "    \n",
    "    # define target and predictor variables\n",
    "    X = np.array(log_reg_sim_df['var'])\n",
    "    y = log_reg_sim_df['binary_target']\n",
    "    \n",
    "    # add constant to formula - statsmodels.Logit doesn't automatically include\n",
    "    # an intercept like sklearn\n",
    "    X_with_intercept = sm.add_constant(X)\n",
    "    log_reg_sm = sm.Logit(y, X_with_intercept)\n",
    "    result = log_reg_sm.fit(disp=False)\n",
    "    \n",
    "    # calculate marginal effects\n",
    "    marginal_effects = result.get_margeff(at = 'all', method = 'dydx')\n",
    "    \n",
    "    # save mean marginal effects in a list\n",
    "    sm_marginal_effects.append(np.mean(marginal_effects.margeff))\n",
    "\n"
   ]
  },
  {
   "cell_type": "code",
   "execution_count": 44,
   "id": "a6937478-8164-4280-9910-8f9f6150ab8c",
   "metadata": {},
   "outputs": [
    {
     "data": {
      "text/plain": [
       "0.16012230355793572"
      ]
     },
     "execution_count": 44,
     "metadata": {},
     "output_type": "execute_result"
    }
   ],
   "source": [
    "np.mean(sm_marginal_effects)"
   ]
  },
  {
   "cell_type": "code",
   "execution_count": 45,
   "id": "93429cae-700f-446e-b6d8-74b34d4aa849",
   "metadata": {},
   "outputs": [
    {
     "data": {
      "text/plain": [
       "(array([  5.,   6.,   7.,  19.,  34.,  55.,  61.,  88., 110., 140., 133.,\n",
       "        112.,  77.,  57.,  39.,  24.,  18.,   6.,   5.,   4.]),\n",
       " array([0.11060163, 0.11566439, 0.12072715, 0.12578991, 0.13085267,\n",
       "        0.13591543, 0.14097819, 0.14604095, 0.15110371, 0.15616647,\n",
       "        0.16122923, 0.16629199, 0.17135475, 0.17641751, 0.18148027,\n",
       "        0.18654303, 0.19160579, 0.19666855, 0.20173131, 0.20679407,\n",
       "        0.21185683]),\n",
       " <BarContainer object of 20 artists>)"
      ]
     },
     "execution_count": 45,
     "metadata": {},
     "output_type": "execute_result"
    },
    {
     "data": {
      "image/png": "[encoded data removed]",
      "text/plain": [
       "<Figure size 432x288 with 1 Axes>"
      ]
     },
     "metadata": {
      "needs_background": "light"
     },
     "output_type": "display_data"
    }
   ],
   "source": [
    "plt.hist(sm_marginal_effects, bins = 20)"
   ]
  },
  {
   "cell_type": "code",
   "execution_count": null,
   "id": "1f73a8fa-7592-42da-aea5-d9430c9dbc3a",
   "metadata": {},
   "outputs": [],
   "source": []
  }
 ],
 "metadata": {
  "kernelspec": {
   "display_name": "Python 3",
   "language": "python",
   "name": "python3"
  },
  "language_info": {
   "codemirror_mode": {
    "name": "ipython",
    "version": 3
   },
   "file_extension": ".py",
   "mimetype": "text/x-python",
   "name": "python",
   "nbconvert_exporter": "python",
   "pygments_lexer": "ipython3",
   "version": "3.7.16"
  }
 },
 "nbformat": 4,
 "nbformat_minor": 5
}
